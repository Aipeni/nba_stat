{
 "cells": [
  {
   "cell_type": "code",
   "execution_count": 8,
   "id": "528e0430",
   "metadata": {},
   "outputs": [],
   "source": [
    "import requests\n",
    "from bs4 import BeautifulSoup"
   ]
  },
  {
   "cell_type": "code",
   "execution_count": 12,
   "id": "a1eb21d2",
   "metadata": {},
   "outputs": [],
   "source": [
    "response = requests.get(\"https://www.oddschecker.com/basketball/nba\")"
   ]
  },
  {
   "cell_type": "code",
   "execution_count": 13,
   "id": "9b4719cb",
   "metadata": {},
   "outputs": [],
   "source": [
    "soup = BeautifulSoup(response.content, \"html.parser\")"
   ]
  },
  {
   "cell_type": "code",
   "execution_count": 15,
   "id": "287b7640",
   "metadata": {},
   "outputs": [
    {
     "data": {
      "text/plain": [
       "[<p>You do not have access to www.oddschecker.com.</p>,\n",
       " <p>The site owner may have set restrictions that prevent you from accessing the site. Contact the site owner for access or try loading the page again.</p>,\n",
       " <p>The access policies of a site define which visits are allowed. Your current visit is not allowed according to those policies.</p>,\n",
       " <p>Only the site owner can change site access policies.</p>,\n",
       " <p class=\"ray-id-wrapper\">\n",
       "                   Ray ID:\n",
       "                   <span class=\"plain-ray-id\" id=\"plain-ray-id\">\n",
       "                      6f271be5fb7a71c0\n",
       "                   </span>\n",
       " <button class=\"click-to-copy-btn hidden\" id=\"click-to-copy-btn\" title=\"Click to copy Ray ID\" type=\"button\">\n",
       " <span class=\"ray-id\">6f271be5fb7a71c0</span><span class=\"copy-label\" id=\"copy-label\">Copy</span>\n",
       " </button>\n",
       " </p>]"
      ]
     },
     "execution_count": 15,
     "metadata": {},
     "output_type": "execute_result"
    }
   ],
   "source": [
    "soup.find_all(\"p\")"
   ]
  },
  {
   "cell_type": "code",
   "execution_count": null,
   "id": "911c9cd0",
   "metadata": {},
   "outputs": [],
   "source": [
    "<span class=\"odds beta-footnote bold add-to-bet-basket\">6/11</span>"
   ]
  }
 ],
 "metadata": {
  "kernelspec": {
   "display_name": "Python 3 (ipykernel)",
   "language": "python",
   "name": "python3"
  },
  "language_info": {
   "codemirror_mode": {
    "name": "ipython",
    "version": 3
   },
   "file_extension": ".py",
   "mimetype": "text/x-python",
   "name": "python",
   "nbconvert_exporter": "python",
   "pygments_lexer": "ipython3",
   "version": "3.8.12"
  },
  "toc": {
   "base_numbering": 1,
   "nav_menu": {},
   "number_sections": true,
   "sideBar": true,
   "skip_h1_title": false,
   "title_cell": "Table of Contents",
   "title_sidebar": "Contents",
   "toc_cell": false,
   "toc_position": {},
   "toc_section_display": true,
   "toc_window_display": false
  }
 },
 "nbformat": 4,
 "nbformat_minor": 5
}
